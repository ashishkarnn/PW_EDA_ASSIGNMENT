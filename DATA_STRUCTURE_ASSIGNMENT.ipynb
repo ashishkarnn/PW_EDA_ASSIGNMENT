{
  "nbformat": 4,
  "nbformat_minor": 0,
  "metadata": {
    "colab": {
      "provenance": [],
      "authorship_tag": "ABX9TyNcE8zcXlNulmQRWEmIftCI",
      "include_colab_link": true
    },
    "kernelspec": {
      "name": "python3",
      "display_name": "Python 3"
    },
    "language_info": {
      "name": "python"
    }
  },
  "cells": [
    {
      "cell_type": "markdown",
      "metadata": {
        "id": "view-in-github",
        "colab_type": "text"
      },
      "source": [
        "<a href=\"https://colab.research.google.com/github/ashishkarnn/PW_EDA_ASSIGNMENT/blob/main/DATA_STRUCTURE_ASSIGNMENT.ipynb\" target=\"_parent\"><img src=\"https://colab.research.google.com/assets/colab-badge.svg\" alt=\"Open In Colab\"/></a>"
      ]
    },
    {
      "cell_type": "code",
      "execution_count": null,
      "metadata": {
        "colab": {
          "base_uri": "https://localhost:8080/"
        },
        "id": "p4c5mUMiHeiY",
        "outputId": "d633012a-3280-4d91-d9b6-099126e10d62"
      },
      "outputs": [
        {
          "output_type": "stream",
          "name": "stdout",
          "text": [
            "olleh\n"
          ]
        }
      ],
      "source": [
        "# Write a code to reverse a string\n",
        "s = \"hello\"\n",
        "reversed_string = s[::-1]\n",
        "print(reversed_string)\n"
      ]
    },
    {
      "cell_type": "code",
      "source": [
        "# Write a code to count the number of vowels in a string\n",
        "s = input()\n",
        "vowels = \"aeiouAEIOU\"\n",
        "count = 0\n",
        "for char in s:\n",
        "    if char in vowels:\n",
        "        count += 1\n",
        "print(count)\n"
      ],
      "metadata": {
        "colab": {
          "base_uri": "https://localhost:8080/"
        },
        "id": "NdLzC0OzH5IJ",
        "outputId": "bea74295-2a29-450a-8bb1-4be74ab68ab2"
      },
      "execution_count": null,
      "outputs": [
        {
          "output_type": "stream",
          "name": "stdout",
          "text": [
            "XOX\n",
            "1\n"
          ]
        }
      ]
    },
    {
      "cell_type": "code",
      "source": [
        "# Write a code to check if a given string is a palindrome or not\n",
        "s = input()\n",
        "if s == s[::-1]:\n",
        "    print(\"Palindrome\")\n",
        "else:\n",
        "    print(\"Not Palindrome\")\n"
      ],
      "metadata": {
        "colab": {
          "base_uri": "https://localhost:8080/"
        },
        "id": "rkn7WqcbIdYd",
        "outputId": "67d199f7-f5a7-491d-b6b6-5a0af606fc61"
      },
      "execution_count": null,
      "outputs": [
        {
          "output_type": "stream",
          "name": "stdout",
          "text": [
            "XOX\n",
            "Palindrome\n"
          ]
        }
      ]
    },
    {
      "cell_type": "code",
      "source": [
        "# 4. Write a code to check if two given strings are anagrams of each other.\n",
        "s1 = input(\"Enter first string: \")\n",
        "s2 = input(\"Enter second string: \")\n",
        "if sorted(s1) == sorted(s2):\n",
        "    print(\"Anagrams\")\n",
        "else:\n",
        "    print(\"Not Anagrams\")\n"
      ],
      "metadata": {
        "colab": {
          "base_uri": "https://localhost:8080/"
        },
        "id": "EQ5IjjgfJHhp",
        "outputId": "81eabfa2-6d2f-4f53-a7ea-c6e153984ad9"
      },
      "execution_count": null,
      "outputs": [
        {
          "output_type": "stream",
          "name": "stdout",
          "text": [
            "Enter first string: ASHISH\n",
            "Enter second string: SAKSHI\n",
            "Not Anagrams\n"
          ]
        }
      ]
    },
    {
      "cell_type": "code",
      "source": [
        "# 5. Write a code to find all occurrences of a given substring within another string.\n",
        "s = input(\"Enter the main string: \")\n",
        "sub = input(\"Enter substring to find: \")\n",
        "indexes = []\n",
        "i = 0\n",
        "while i <= len(s) - len(sub):\n",
        "    if s[i:i+len(sub)] == sub:\n",
        "        indexes.append(i)\n",
        "    i += 1\n",
        "print(indexes)\n"
      ],
      "metadata": {
        "id": "YNwyauwZMj03"
      },
      "execution_count": null,
      "outputs": []
    },
    {
      "cell_type": "code",
      "source": [
        "# 6. Write a code to perform basic string compression using counts of repeated characters.\n",
        "s = input(\"Enter a string: \")\n",
        "compressed = \"\"\n",
        "count = 1\n",
        "for i in range(len(s)):\n",
        "    if i < len(s) - 1 and s[i] == s[i+1]:\n",
        "        count += 1\n",
        "    else:\n",
        "        compressed += s[i] + str(count)\n",
        "        count = 1\n",
        "print(compressed)\n"
      ],
      "metadata": {
        "id": "F_h161PmMonB"
      },
      "execution_count": null,
      "outputs": []
    },
    {
      "cell_type": "code",
      "source": [
        "# 7. Write a code to determine if a string has all unique characters.\n",
        "s = input(\"Enter a string: \")\n",
        "unique = True\n",
        "for ch in s:\n",
        "    if s.count(ch) > 1:\n",
        "        unique = False\n",
        "        break\n",
        "print(unique)\n"
      ],
      "metadata": {
        "id": "VQXnMtNwMtBc"
      },
      "execution_count": null,
      "outputs": []
    },
    {
      "cell_type": "code",
      "source": [
        "# 8. Write a code to convert a given string to uppercase or lowercase.\n",
        "s = input(\"Enter a string: \")\n",
        "choice = input(\"Enter 'U' for uppercase or 'L' for lowercase: \")\n",
        "if choice == 'U':\n",
        "    print(s.upper())\n",
        "elif choice == 'L':\n",
        "    print(s.lower())\n",
        "else:\n",
        "    print(\"Invalid choice\")\n"
      ],
      "metadata": {
        "id": "oxXz64GzMwSp"
      },
      "execution_count": null,
      "outputs": []
    },
    {
      "cell_type": "code",
      "source": [
        "# 9. Write a code to count the number of words in a string.\n",
        "s = input(\"Enter a string: \")\n",
        "words = s.split()\n",
        "print(len(words))\n"
      ],
      "metadata": {
        "id": "5EZR3Sz0My2Q"
      },
      "execution_count": null,
      "outputs": []
    },
    {
      "cell_type": "code",
      "source": [
        "# 10. Write a code to concatenate two strings without using the `+` operator.\n",
        "s1 = input(\"Enter first string: \")\n",
        "s2 = input(\"Enter second string: \")\n",
        "result = ''.join([s1, s2])\n",
        "print(result)\n"
      ],
      "metadata": {
        "id": "VlbOf2qMM2-G"
      },
      "execution_count": null,
      "outputs": []
    },
    {
      "cell_type": "code",
      "source": [
        "# 11. Write a code to remove all occurrences of a specific element from a list.\n",
        "lst = input(\"Enter list elements separated by space: \").split()\n",
        "elem = input(\"Enter element to remove: \")\n",
        "result = []\n",
        "for x in lst:\n",
        "    if x != elem:\n",
        "        result.append(x)\n",
        "print(result)\n"
      ],
      "metadata": {
        "id": "8MqaOuc2M5zy"
      },
      "execution_count": null,
      "outputs": []
    },
    {
      "cell_type": "code",
      "source": [
        "# 12. Implement a code to find the second largest number in a given list of integers.\n",
        "lst = list(map(int, input(\"Enter integers separated by space: \").split()))\n",
        "unique_lst = []\n",
        "for x in lst:\n",
        "    if x not in unique_lst:\n",
        "        unique_lst.append(x)\n",
        "unique_lst.sort()\n",
        "if len(unique_lst) < 2:\n",
        "    print(\"No second largest element\")\n",
        "else:\n",
        "    print(unique_lst[-2])\n"
      ],
      "metadata": {
        "id": "uEDp_frAM9yb"
      },
      "execution_count": null,
      "outputs": []
    },
    {
      "cell_type": "code",
      "source": [
        "# 13. Create a code to count the occurrences of each element in a list and return a dictionary with elements as keys and their counts as values.\n",
        "lst = input(\"Enter list elements separated by space: \").split()\n",
        "counts = {}\n",
        "for x in lst:\n",
        "    if x in counts:\n",
        "        counts[x] += 1\n",
        "    else:\n",
        "        counts[x] = 1\n",
        "print(counts)\n"
      ],
      "metadata": {
        "id": "ONZgZ0i7NAh0"
      },
      "execution_count": null,
      "outputs": []
    },
    {
      "cell_type": "code",
      "source": [
        "# 14. Write a code to reverse a list in-place without using any built-in reverse functions.\n",
        "lst = input(\"Enter list elements separated by space: \").split()\n",
        "n = len(lst)\n",
        "for i in range(n//2):\n",
        "    lst[i], lst[n-1-i] = lst[n-1-i], lst[i]\n",
        "print(lst)\n"
      ],
      "metadata": {
        "id": "BYtNjUZ-NDoe"
      },
      "execution_count": null,
      "outputs": []
    },
    {
      "cell_type": "code",
      "source": [
        "# 15. Implement a code to find and remove duplicates from a list while preserving the original order of elements.\n",
        "lst = input(\"Enter list elements separated by space: \").split()\n",
        "seen = []\n",
        "for x in lst:\n",
        "    if x not in seen:\n",
        "        seen.append(x)\n",
        "print(seen)\n"
      ],
      "metadata": {
        "id": "HcVGvLPaNG-s"
      },
      "execution_count": null,
      "outputs": []
    },
    {
      "cell_type": "code",
      "source": [
        "# 16. Create a code to check if a given list is sorted (either in ascending or descending order) or not.\n",
        "lst = list(map(int, input(\"Enter list of integers separated by space: \").split()))\n",
        "ascending = True\n",
        "descending = True\n",
        "for i in range(len(lst)-1):\n",
        "    if lst[i] > lst[i+1]:\n",
        "        ascending = False\n",
        "    if lst[i] < lst[i+1]:\n",
        "        descending = False\n",
        "if ascending or descending:\n",
        "    print(\"Sorted\")\n",
        "else:\n",
        "    print(\"Not Sorted\")\n"
      ],
      "metadata": {
        "id": "SISNIUn7NKtm"
      },
      "execution_count": null,
      "outputs": []
    },
    {
      "cell_type": "code",
      "source": [
        "# 17. Write a code to merge two sorted lists into a single sorted list.\n",
        "lst1 = list(map(int, input(\"Enter first sorted list: \").split()))\n",
        "lst2 = list(map(int, input(\"Enter second sorted list: \").split()))\n",
        "merged = []\n",
        "i = 0\n",
        "j = 0\n",
        "while i < len(lst1) and j < len(lst2):\n",
        "    if lst1[i] < lst2[j]:\n",
        "        merged.append(lst1[i])\n",
        "        i += 1\n",
        "    else:\n",
        "        merged.append(lst2[j])\n",
        "        j += 1\n",
        "while i < len(lst1):\n",
        "    merged.append(lst1[i])\n",
        "    i += 1\n",
        "while j < len(lst2):\n",
        "    merged.append(lst2[j])\n",
        "    j += 1\n",
        "print(merged)\n"
      ],
      "metadata": {
        "id": "M2AKuVkGNMHW"
      },
      "execution_count": null,
      "outputs": []
    },
    {
      "cell_type": "code",
      "source": [
        "# 18. Implement a code to find the intersection of two given lists.\n",
        "lst1 = input(\"Enter first list elements: \").split()\n",
        "lst2 = input(\"Enter second list elements: \").split()\n",
        "intersection = []\n",
        "for x in lst1:\n",
        "    if x in lst2 and x not in intersection:\n",
        "        intersection.append(x)\n",
        "print(intersection)\n"
      ],
      "metadata": {
        "id": "5hV5uq4pNOqd"
      },
      "execution_count": null,
      "outputs": []
    },
    {
      "cell_type": "code",
      "source": [
        "# 19. Create a code to find the union of two lists without duplicates.\n",
        "lst1 = input(\"Enter first list elements: \").split()\n",
        "lst2 = input(\"Enter second list elements: \").split()\n",
        "union = []\n",
        "for x in lst1:\n",
        "    if x not in union:\n",
        "        union.append(x)\n",
        "for x in lst2:\n",
        "    if x not in union:\n",
        "        union.append(x)\n",
        "print(union)\n"
      ],
      "metadata": {
        "id": "VLrJn2KRNTAh"
      },
      "execution_count": null,
      "outputs": []
    },
    {
      "cell_type": "code",
      "source": [
        "# 20. Write a code to shuffle a given list randomly without using any built-in shuffle functions.\n",
        "import random\n",
        "lst = input(\"Enter list elements separated by space: \").split()\n",
        "n = len(lst)\n",
        "for i in range(n):\n",
        "    r = random.randint(0, n-1)\n",
        "    lst[i], lst[r] = lst[r], lst[i]\n",
        "print(lst)\n"
      ],
      "metadata": {
        "id": "mnipSm_5NVcj"
      },
      "execution_count": null,
      "outputs": []
    },
    {
      "cell_type": "code",
      "source": [
        "# 21. Write a code that takes two tuples as input and returns a new tuple containing elements that are common to both input tuples.\n",
        "t1 = tuple(input(\"Enter elements of first tuple separated by space: \").split())\n",
        "t2 = tuple(input(\"Enter elements of second tuple separated by space: \").split())\n",
        "common = []\n",
        "for x in t1:\n",
        "    if x in t2 and x not in common:\n",
        "        common.append(x)\n",
        "print(tuple(common))\n"
      ],
      "metadata": {
        "id": "H9JBIM3DNY0K"
      },
      "execution_count": null,
      "outputs": []
    },
    {
      "cell_type": "code",
      "source": [
        "# 22. Create a code that prompts the user to enter two sets of integers separated by commas. Then, print the intersection of these two sets.\n",
        "s1 = set(map(int, input(\"Enter first set of integers separated by commas: \").split(',')))\n",
        "s2 = set(map(int, input(\"Enter second set of integers separated by commas: \").split(',')))\n",
        "intersection = s1 & s2\n",
        "print(intersection)\n"
      ],
      "metadata": {
        "id": "0MhrXm7xNbO0"
      },
      "execution_count": null,
      "outputs": []
    },
    {
      "cell_type": "code",
      "source": [
        "# 23. Write a code to concatenate two tuples.\n",
        "t1 = tuple(input(\"Enter first tuple elements separated by space: \").split())\n",
        "t2 = tuple(input(\"Enter second tuple elements separated by space: \").split())\n",
        "result = t1 + t2\n",
        "print(result)\n"
      ],
      "metadata": {
        "id": "j5YltTXrNfXH"
      },
      "execution_count": null,
      "outputs": []
    },
    {
      "cell_type": "code",
      "source": [
        "# 24. Develop a code that prompts the user to input two sets of strings. Then, print the elements present in the first set but not in the second set.\n",
        "s1 = set(input(\"Enter first set of strings separated by space: \").split())\n",
        "s2 = set(input(\"Enter second set of strings separated by space: \").split())\n",
        "diff = s1 - s2\n",
        "print(diff)\n"
      ],
      "metadata": {
        "id": "iQWJ6eZ1Nirz"
      },
      "execution_count": null,
      "outputs": []
    },
    {
      "cell_type": "code",
      "source": [
        "# 25. Create a code that takes a tuple and two integers as input. The function should return a new tuple containing elements within the specified index range.\n",
        "t = tuple(input(\"Enter tuple elements separated by space: \").split())\n",
        "start = int(input(\"Enter start index: \"))\n",
        "end = int(input(\"Enter end index: \"))\n",
        "if start < 0:\n",
        "    start = 0\n",
        "if end > len(t):\n",
        "    end = len(t)\n",
        "print(t[start:end])\n"
      ],
      "metadata": {
        "id": "ECwQsCrYNn8Q"
      },
      "execution_count": null,
      "outputs": []
    },
    {
      "cell_type": "code",
      "source": [
        "# 26. Write a code that prompts the user to input two sets of characters. Then, print the union of these two sets.\n",
        "s1 = set(input(\"Enter first set of characters separated by space: \").split())\n",
        "s2 = set(input(\"Enter second set of characters separated by space: \").split())\n",
        "union = s1 | s2\n",
        "print(union)\n"
      ],
      "metadata": {
        "id": "jOV2erP4NrBm"
      },
      "execution_count": null,
      "outputs": []
    },
    {
      "cell_type": "code",
      "source": [
        "# 27. Develop a code that takes a tuple of integers as input. The code should return the maximum and minimum values using tuple unpacking.\n",
        "t = tuple(map(int, input(\"Enter tuple of integers separated by space: \").split()))\n",
        "max_val = t[0]\n",
        "min_val = t[0]\n",
        "for x in t:\n",
        "    if x > max_val:\n",
        "        max_val = x\n",
        "    if x < min_val:\n",
        "        min_val = x\n",
        "result = (max_val, min_val)\n",
        "max_out, min_out = result\n",
        "print(\"Max:\", max_out, \"Min:\", min_out)\n"
      ],
      "metadata": {
        "id": "n8r9LC4RNtEK"
      },
      "execution_count": null,
      "outputs": []
    },
    {
      "cell_type": "code",
      "source": [
        "# 28. Create a code that defines two sets of integers. Then, print the union, intersection, and difference of these two sets.\n",
        "s1 = set(map(int, input(\"Enter first set of integers separated by space: \").split()))\n",
        "s2 = set(map(int, input(\"Enter second set of integers separated by space: \").split()))\n",
        "print(\"Union:\", s1 | s2)\n",
        "print(\"Intersection:\", s1 & s2)\n",
        "print(\"Difference (s1 - s2):\", s1 - s2)\n"
      ],
      "metadata": {
        "id": "e36ku0BYNv6Z"
      },
      "execution_count": null,
      "outputs": []
    },
    {
      "cell_type": "code",
      "source": [
        "# 29. Write a code that takes a tuple and an element as input. The code should return the count of occurrences of the element in the tuple.\n",
        "t = tuple(input(\"Enter tuple elements separated by space: \").split())\n",
        "elem = input(\"Enter element to count: \")\n",
        "count = 0\n",
        "for x in t:\n",
        "    if x == elem:\n",
        "        count += 1\n",
        "print(count)\n"
      ],
      "metadata": {
        "id": "-6Hhd6ehNwOo"
      },
      "execution_count": null,
      "outputs": []
    },
    {
      "cell_type": "code",
      "source": [
        "# 30. Develop a code that prompts the user to input two sets of strings. Then, print the symmetric difference of these two sets.\n",
        "s1 = set(input(\"Enter first set of strings separated by space: \").split())\n",
        "s2 = set(input(\"Enter second set of strings separated by space: \").split())\n",
        "sym_diff = s1 ^ s2\n",
        "print(sym_diff)\n",
        "# 31. Write a code that takes a list of words as input and returns a dictionary with word frequencies.\n",
        "lst = input(\"Enter list of words separated by space: \").split()\n",
        "freq = {}\n",
        "for word in lst:\n",
        "    if word in freq:\n",
        "        freq[word] += 1\n",
        "    else:\n",
        "        freq[word] = 1\n",
        "print(freq)\n"
      ],
      "metadata": {
        "id": "6SbOZ_LANzeg"
      },
      "execution_count": null,
      "outputs": []
    },
    {
      "cell_type": "code",
      "source": [
        "# 31. Write a code that takes a list of words as input and returns a dictionary with word frequencies.\n",
        "lst = input(\"Enter list of words separated by space: \").split()\n",
        "freq = {}\n",
        "for word in lst:\n",
        "    if word in freq:\n",
        "        freq[word] += 1\n",
        "    else:\n",
        "        freq[word] = 1\n",
        "print(freq)\n"
      ],
      "metadata": {
        "id": "NjQBLYzVN4-J"
      },
      "execution_count": null,
      "outputs": []
    },
    {
      "cell_type": "code",
      "source": [
        "# 32. Write a code that takes two dictionaries as input and merges them. If keys overlap, sum their values.\n",
        "dict1 = input(\"Enter first dictionary items (key:value) separated by space: \").split()\n",
        "dict2 = input(\"Enter second dictionary items (key:value) separated by space: \").split()\n",
        "d1 = {}\n",
        "d2 = {}\n",
        "for item in dict1:\n",
        "    k,v = item.split(':')\n",
        "    d1[k] = int(v)\n",
        "for item in dict2:\n",
        "    k,v = item.split(':')\n",
        "    d2[k] = int(v)\n",
        "merged = {}\n",
        "for k in d1:\n",
        "    merged[k] = d1[k]\n",
        "for k in d2:\n",
        "    if k in merged:\n",
        "        merged[k] += d2[k]\n",
        "    else:\n",
        "        merged[k] = d2[k]\n",
        "print(merged)\n"
      ],
      "metadata": {
        "id": "pM3Z62jYN_uJ"
      },
      "execution_count": null,
      "outputs": []
    },
    {
      "cell_type": "code",
      "source": [
        "# 33. Write a code to access a value in a nested dictionary with a list of keys; return None if any key is missing.\n",
        "d = eval(input(\"Enter nested dictionary: \"))\n",
        "keys = input(\"Enter list of keys separated by space: \").split()\n",
        "temp = d\n",
        "for k in keys:\n",
        "    if isinstance(temp, dict) and k in temp:\n",
        "        temp = temp[k]\n",
        "    else:\n",
        "        temp = None\n",
        "        break\n",
        "print(temp)\n"
      ],
      "metadata": {
        "id": "IEY5WtrzOEGF"
      },
      "execution_count": null,
      "outputs": []
    },
    {
      "cell_type": "code",
      "source": [
        "\n",
        "\n",
        "# 34. Write a code that takes a dictionary and returns it sorted by values (ascending or descending).\n",
        "d = {}\n",
        "entries = input(\"Enter dictionary items (key:value) separated by space: \").split()\n",
        "for item in entries:\n",
        "    k,v = item.split(':')\n",
        "    d[k] = int(v)\n",
        "order = input(\"Enter 'asc' for ascending or 'desc' for descending sort: \")\n",
        "if order == 'asc':\n",
        "    sorted_d = dict(sorted(d.items(), key=lambda x: x[1]))\n",
        "elif order == 'desc':\n",
        "    sorted_d = dict(sorted(d.items(), key=lambda x: x[1], reverse=True))\n",
        "else:\n",
        "    sorted_d = d\n",
        "print(sorted_d)\n"
      ],
      "metadata": {
        "id": "h3MYlwFLOGsX"
      },
      "execution_count": null,
      "outputs": []
    },
    {
      "cell_type": "code",
      "source": [
        "# 35. Write a code that inverts a dictionary, swapping keys and values. If multiple keys have same value, store keys as list.\n",
        "d = {}\n",
        "entries = input(\"Enter dictionary items (key:value) separated by space: \").split()\n",
        "for item in entries:\n",
        "    k,v = item.split(':')\n",
        "    d[k] = v\n",
        "inverted = {}\n",
        "for k,v in d.items():\n",
        "    if v in inverted:\n",
        "        if isinstance(inverted[v], list):\n",
        "            inverted[v].append(k)\n",
        "        else:\n",
        "            inverted[v] = [inverted[v], k]\n",
        "    else:\n",
        "        inverted[v] = k\n",
        "print(inverted)\n"
      ],
      "metadata": {
        "id": "Xsw0TfkDOMBk"
      },
      "execution_count": null,
      "outputs": []
    },
    {
      "cell_type": "code",
      "source": [],
      "metadata": {
        "id": "qXkhuNSbOME-"
      },
      "execution_count": null,
      "outputs": []
    }
  ]
}