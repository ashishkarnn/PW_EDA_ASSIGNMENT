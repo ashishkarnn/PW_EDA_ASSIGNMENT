{
  "cells": [
    {
      "cell_type": "markdown",
      "metadata": {
        "id": "view-in-github",
        "colab_type": "text"
      },
      "source": [
        "<a href=\"https://colab.research.google.com/github/ashishkarnn/PW_EDA_ASSIGNMENT/blob/main/Python_File_Handling_Exercises_2025_05_28_Copy.ipynb\" target=\"_parent\"><img src=\"https://colab.research.google.com/assets/colab-badge.svg\" alt=\"Open In Colab\"/></a>"
      ]
    },
    {
      "cell_type": "code",
      "execution_count": 11,
      "id": "e76908d4",
      "metadata": {
        "id": "e76908d4"
      },
      "outputs": [],
      "source": [
        "# 1. How can you open a file for writing in Python and write a string to it?\n",
        "with open(\"example.txt\", \"w\") as file:\n",
        "    file.write(\"Hello, this is a string written to a file.\")"
      ]
    },
    {
      "cell_type": "code",
      "execution_count": 12,
      "id": "4bf83f73",
      "metadata": {
        "colab": {
          "base_uri": "https://localhost:8080/"
        },
        "id": "4bf83f73",
        "outputId": "80b6de1a-c016-488d-94d7-633cb97dc85d"
      },
      "outputs": [
        {
          "output_type": "stream",
          "name": "stdout",
          "text": [
            "Hello, this is a string written to a file.\n"
          ]
        }
      ],
      "source": [
        "# 2. Write a Python program to read the contents of a file and print each line.\n",
        "with open(\"example.txt\", \"r\") as file:\n",
        "    for line in file:\n",
        "        print(line.strip())"
      ]
    },
    {
      "cell_type": "code",
      "execution_count": 13,
      "id": "5d59ac3d",
      "metadata": {
        "colab": {
          "base_uri": "https://localhost:8080/"
        },
        "id": "5d59ac3d",
        "outputId": "852c6ea4-1087-4f4f-c467-6fdb8bf4596d"
      },
      "outputs": [
        {
          "output_type": "stream",
          "name": "stdout",
          "text": [
            "The file does not exist.\n"
          ]
        }
      ],
      "source": [
        "# 3. How would you handle a case where the file doesn't exist while trying to open it for reading?\n",
        "try:\n",
        "    with open(\"non_existent.txt\", \"r\") as file:\n",
        "        print(file.read())\n",
        "except FileNotFoundError:\n",
        "    print(\"The file does not exist.\")"
      ]
    },
    {
      "cell_type": "code",
      "execution_count": 14,
      "id": "fc3cd333",
      "metadata": {
        "id": "fc3cd333"
      },
      "outputs": [],
      "source": [
        "# 4. Write a Python script that reads from one file and writes its content to another file.\n",
        "with open(\"example.txt\", \"r\") as src, open(\"copy.txt\", \"w\") as dest:\n",
        "    dest.write(src.read())"
      ]
    },
    {
      "cell_type": "code",
      "execution_count": 15,
      "id": "f54bd1c0",
      "metadata": {
        "colab": {
          "base_uri": "https://localhost:8080/"
        },
        "id": "f54bd1c0",
        "outputId": "93d75d36-f254-4400-d3bf-4aebdd5de122"
      },
      "outputs": [
        {
          "output_type": "stream",
          "name": "stdout",
          "text": [
            "Cannot divide by zero.\n"
          ]
        }
      ],
      "source": [
        "# 5. How would you catch and handle division by zero error in Python?\n",
        "try:\n",
        "    result = 10 / 0\n",
        "except ZeroDivisionError:\n",
        "    print(\"Cannot divide by zero.\")"
      ]
    },
    {
      "cell_type": "code",
      "execution_count": 16,
      "id": "aa1c33fd",
      "metadata": {
        "colab": {
          "base_uri": "https://localhost:8080/"
        },
        "id": "aa1c33fd",
        "outputId": "90d89d42-e4a7-49c6-bca5-3d28c8c6ebba"
      },
      "outputs": [
        {
          "output_type": "stream",
          "name": "stderr",
          "text": [
            "ERROR:root:Division by zero error occurred: division by zero\n"
          ]
        }
      ],
      "source": [
        "# 6. Write a Python program that logs an error message to a log file when a division by zero exception occurs.\n",
        "import logging\n",
        "\n",
        "logging.basicConfig(filename=\"error.log\", level=logging.ERROR)\n",
        "try:\n",
        "    result = 10 / 0\n",
        "except ZeroDivisionError as e:\n",
        "    logging.error(\"Division by zero error occurred: %s\", e)"
      ]
    },
    {
      "cell_type": "code",
      "execution_count": 17,
      "id": "08fcc2e4",
      "metadata": {
        "colab": {
          "base_uri": "https://localhost:8080/"
        },
        "id": "08fcc2e4",
        "outputId": "6b3418cd-60d3-433b-a0f1-1ce0c5f62377"
      },
      "outputs": [
        {
          "output_type": "stream",
          "name": "stderr",
          "text": [
            "WARNING:root:This is a warning message.\n",
            "ERROR:root:This is an error message.\n"
          ]
        }
      ],
      "source": [
        "# 7. How do you log information at different levels (INFO, ERROR, WARNING) in Python using the logging module?\n",
        "import logging\n",
        "\n",
        "logging.basicConfig(filename=\"app.log\", level=logging.DEBUG)\n",
        "logging.info(\"This is an info message.\")\n",
        "logging.warning(\"This is a warning message.\")\n",
        "logging.error(\"This is an error message.\")"
      ]
    },
    {
      "cell_type": "code",
      "execution_count": 18,
      "id": "12f9893a",
      "metadata": {
        "colab": {
          "base_uri": "https://localhost:8080/"
        },
        "id": "12f9893a",
        "outputId": "d56fd28b-5dfa-4b1b-db0b-d1c872ade5e3"
      },
      "outputs": [
        {
          "output_type": "stream",
          "name": "stdout",
          "text": [
            "File could not be opened.\n"
          ]
        }
      ],
      "source": [
        "# 8. Write a program to handle a file opening error using exception handling.\n",
        "try:\n",
        "    with open(\"nonexistent.txt\", \"r\") as file:\n",
        "        content = file.read()\n",
        "except FileNotFoundError:\n",
        "    print(\"File could not be opened.\")"
      ]
    },
    {
      "cell_type": "code",
      "execution_count": 19,
      "id": "e995b734",
      "metadata": {
        "colab": {
          "base_uri": "https://localhost:8080/"
        },
        "id": "e995b734",
        "outputId": "31289e68-cff5-497a-d040-91c7a1c4e159"
      },
      "outputs": [
        {
          "output_type": "stream",
          "name": "stdout",
          "text": [
            "['Hello, this is a string written to a file.']\n"
          ]
        }
      ],
      "source": [
        "# 9. How can you read a file line by line and store its content in a list in Python?\n",
        "with open(\"example.txt\", \"r\") as file:\n",
        "    lines = [line.strip() for line in file]\n",
        "print(lines)"
      ]
    },
    {
      "cell_type": "code",
      "execution_count": 21,
      "id": "dfae3452",
      "metadata": {
        "id": "dfae3452"
      },
      "outputs": [],
      "source": [
        "# 10. How can you append data to an existing file in Python?\n",
        "with open(\"example.txt\", \"a\") as file:\n",
        "    file.write(\"\\nThis line is appended.\")"
      ]
    },
    {
      "cell_type": "code",
      "source": [
        "# 11. Write a Python program that uses a try–except block to handle an error when attempting to access a dictionary key that doesn’t exist.\n",
        "my_dict = {\"name\": \"Alice\"}\n",
        "\n",
        "try:\n",
        "    print(my_dict[\"age\"])\n",
        "except KeyError:\n",
        "    print(\"Key 'age' does not exist in the dictionary.\")\n"
      ],
      "metadata": {
        "colab": {
          "base_uri": "https://localhost:8080/"
        },
        "id": "qrzBup4Jdm7V",
        "outputId": "1ecedf16-429a-4e76-fd88-bbe6a788d1a6"
      },
      "id": "qrzBup4Jdm7V",
      "execution_count": 22,
      "outputs": [
        {
          "output_type": "stream",
          "name": "stdout",
          "text": [
            "Key 'age' does not exist in the dictionary.\n"
          ]
        }
      ]
    },
    {
      "cell_type": "code",
      "source": [
        "# 12. Write a program that demonstrates using multiple except blocks to handle different types of exceptions.\n",
        "try:\n",
        "    num = int(\"abc\")\n",
        "    result = 10 / 0\n",
        "except ValueError:\n",
        "    print(\"ValueError occurred.\")\n",
        "except ZeroDivisionError:\n",
        "    print(\"ZeroDivisionError occurred.\")\n"
      ],
      "metadata": {
        "colab": {
          "base_uri": "https://localhost:8080/"
        },
        "id": "OExJwQJkdqfz",
        "outputId": "3b32ae80-d595-4da5-eaf7-648f4259d504"
      },
      "id": "OExJwQJkdqfz",
      "execution_count": 23,
      "outputs": [
        {
          "output_type": "stream",
          "name": "stdout",
          "text": [
            "ValueError occurred.\n"
          ]
        }
      ]
    },
    {
      "cell_type": "code",
      "source": [
        "# 13. How would you check if a file exists before attempting to read it in Python?\n",
        "import os\n",
        "\n",
        "if os.path.exists(\"example1.txt\"):\n",
        "    with open(\"example1.txt\", \"r\") as file:\n",
        "        print(file.read())\n",
        "else:\n",
        "    print(\"File does not exist.\")\n"
      ],
      "metadata": {
        "colab": {
          "base_uri": "https://localhost:8080/"
        },
        "id": "6u4EJjJ0duYv",
        "outputId": "1882c3a6-3275-4687-c49e-4a0f8bd59008"
      },
      "id": "6u4EJjJ0duYv",
      "execution_count": 24,
      "outputs": [
        {
          "output_type": "stream",
          "name": "stdout",
          "text": [
            "File does not exist.\n"
          ]
        }
      ]
    },
    {
      "cell_type": "code",
      "source": [
        "# 14. Write a program that uses the logging module to log both informational and error messages.\n",
        "import logging\n",
        "\n",
        "logging.basicConfig(filename=\"info_error_log.txt\", level=logging.DEBUG)\n",
        "logging.info(\"This is an info message.\")\n",
        "try:\n",
        "    result = 10 / 0\n",
        "except ZeroDivisionError:\n",
        "    logging.error(\"Division by zero occurred.\")\n"
      ],
      "metadata": {
        "colab": {
          "base_uri": "https://localhost:8080/"
        },
        "id": "5ZPXKikAdwv0",
        "outputId": "353703e2-b012-4611-e27c-dc2972f8cd70"
      },
      "id": "5ZPXKikAdwv0",
      "execution_count": 25,
      "outputs": [
        {
          "output_type": "stream",
          "name": "stderr",
          "text": [
            "ERROR:root:Division by zero occurred.\n"
          ]
        }
      ]
    },
    {
      "cell_type": "code",
      "source": [
        "# 15. Write a Python program that prints the content of a file and handles the case when the file is empty.\n",
        "with open(\"example.txt\", \"r\") as file:\n",
        "    content = file.read()\n",
        "    if content:\n",
        "        print(content)\n",
        "    else:\n",
        "        print(\"The file is empty.\")\n"
      ],
      "metadata": {
        "colab": {
          "base_uri": "https://localhost:8080/"
        },
        "id": "wiH96_0kdy3O",
        "outputId": "a70ee44c-4407-4801-e983-ac72d14220ba"
      },
      "id": "wiH96_0kdy3O",
      "execution_count": 27,
      "outputs": [
        {
          "output_type": "stream",
          "name": "stdout",
          "text": [
            "Hello, this is a string written to a file.\n",
            "This line is appended.\n",
            "This line is appended.\n"
          ]
        }
      ]
    },
    {
      "cell_type": "code",
      "source": [
        "# 16. Demonstrate how to use memory profiling to check the memory usage of a small program.\n",
        "# Install memory_profiler in your Colab environment first:\n",
        "# !pip install -q memory-profiler\n",
        "\n",
        "# from memory_profiler import profile\n",
        "\n",
        "# @profile\n",
        "# def small_program():\n",
        "#     a = [i for i in range(10000)]\n",
        "#     return sum(a)\n",
        "\n",
        "# small_program()\n"
      ],
      "metadata": {
        "id": "WlCc9Mqgd2rF"
      },
      "id": "WlCc9Mqgd2rF",
      "execution_count": 30,
      "outputs": []
    },
    {
      "cell_type": "code",
      "source": [
        "# 17. Write a Python program to create and write a list of numbers to a file, one number per line.\n",
        "numbers = [1, 2, 3, 4, 5]\n",
        "\n",
        "with open(\"numbers.txt\", \"w\") as file:\n",
        "    for number in numbers:\n",
        "        file.write(f\"{number}\\n\")\n"
      ],
      "metadata": {
        "id": "VUELweu2ehMj"
      },
      "id": "VUELweu2ehMj",
      "execution_count": 31,
      "outputs": []
    },
    {
      "cell_type": "code",
      "source": [
        "# 18. How would you implement a basic logging setup that logs to a file with rotation after 1MB?\n",
        "import logging\n",
        "from logging.handlers import RotatingFileHandler\n",
        "\n",
        "handler = RotatingFileHandler(\"rotating_log.txt\", maxBytes=1_000_000, backupCount=3)\n",
        "logging.basicConfig(handlers=[handler], level=logging.INFO)\n",
        "\n",
        "logging.info(\"This is a rotating log message.\")\n"
      ],
      "metadata": {
        "id": "gkja2Xj0esNT"
      },
      "id": "gkja2Xj0esNT",
      "execution_count": 32,
      "outputs": []
    },
    {
      "cell_type": "code",
      "source": [
        "# 19. Write a program that handles both IndexError and KeyError using a try–except block.\n",
        "my_list = [10, 20, 30]\n",
        "my_dict = {\"a\": 1}\n",
        "\n",
        "try:\n",
        "    print(my_list[5])\n",
        "    print(my_dict[\"b\"])\n",
        "except IndexError:\n",
        "    print(\"Index out of range.\")\n",
        "except KeyError:\n",
        "    print(\"Key not found.\")\n"
      ],
      "metadata": {
        "colab": {
          "base_uri": "https://localhost:8080/"
        },
        "id": "F4aWIeHCeuWb",
        "outputId": "fe0c57ff-0042-4ad1-b7f6-96e769b9fce3"
      },
      "id": "F4aWIeHCeuWb",
      "execution_count": 33,
      "outputs": [
        {
          "output_type": "stream",
          "name": "stdout",
          "text": [
            "Index out of range.\n"
          ]
        }
      ]
    },
    {
      "cell_type": "code",
      "source": [
        "# 20. How would you open a file and read its contents using a context manager in Python?\n",
        "with open(\"example.txt\", \"r\") as file:\n",
        "    content = file.read()\n",
        "    print(content)\n"
      ],
      "metadata": {
        "colab": {
          "base_uri": "https://localhost:8080/"
        },
        "id": "_1JTEsPoe0C2",
        "outputId": "26672ff1-65e0-4c87-d2e3-42d7a77232e4"
      },
      "id": "_1JTEsPoe0C2",
      "execution_count": 35,
      "outputs": [
        {
          "output_type": "stream",
          "name": "stdout",
          "text": [
            "Hello, this is a string written to a file.\n",
            "This line is appended.\n",
            "This line is appended.\n"
          ]
        }
      ]
    },
    {
      "cell_type": "code",
      "source": [
        "# 21. Write a Python program that reads a file and prints the number of occurrences of a specific word.\n",
        "word_to_find = \"test\"\n",
        "count = 0\n",
        "\n",
        "with open(\"example.txt\", \"r\") as file:\n",
        "    for line in file:\n",
        "        count += line.count(word_to_find)\n",
        "\n",
        "print(f\"The word '{word_to_find}' occurred {count} times.\")\n"
      ],
      "metadata": {
        "colab": {
          "base_uri": "https://localhost:8080/"
        },
        "id": "5ffRKiWIe3VM",
        "outputId": "adeb0cdb-6675-4881-8915-2a16844e1825"
      },
      "id": "5ffRKiWIe3VM",
      "execution_count": 37,
      "outputs": [
        {
          "output_type": "stream",
          "name": "stdout",
          "text": [
            "The word 'test' occurred 0 times.\n"
          ]
        }
      ]
    },
    {
      "cell_type": "code",
      "source": [
        "# 22. How can you check if a file is empty before attempting to read its contents?\n",
        "import os\n",
        "\n",
        "if os.path.exists(\"example1.txt\") and os.path.getsize(\"example1.txt\") > 0:\n",
        "    with open(\"example.txt\", \"r\") as file:\n",
        "        print(file.read())\n",
        "else:\n",
        "    print(\"File does not exist or is empty.\")\n"
      ],
      "metadata": {
        "colab": {
          "base_uri": "https://localhost:8080/"
        },
        "id": "kum42G_De8EO",
        "outputId": "bfbb9e82-8709-40f8-96fd-a4b1f78d7d79"
      },
      "id": "kum42G_De8EO",
      "execution_count": 38,
      "outputs": [
        {
          "output_type": "stream",
          "name": "stdout",
          "text": [
            "File does not exist or is empty.\n"
          ]
        }
      ]
    },
    {
      "cell_type": "code",
      "source": [
        "# 23. Write a Python program that writes to a log file when an error occurs during file handling.\n",
        "import logging\n",
        "\n",
        "logging.basicConfig(filename=\"file_error_log.txt\", level=logging.ERROR)\n",
        "\n",
        "try:\n",
        "    with open(\"nonexistentfile.txt\", \"r\") as file:\n",
        "        data = file.read()\n",
        "except Exception as e:\n",
        "    logging.error(\"Error while handling file: %s\", e)\n"
      ],
      "metadata": {
        "colab": {
          "base_uri": "https://localhost:8080/"
        },
        "id": "QMf7DgTqfBQN",
        "outputId": "c6ada0a1-8ed7-45b8-90c3-dc70b7379d98"
      },
      "id": "QMf7DgTqfBQN",
      "execution_count": 39,
      "outputs": [
        {
          "output_type": "stream",
          "name": "stderr",
          "text": [
            "ERROR:root:Error while handling file: [Errno 2] No such file or directory: 'nonexistentfile.txt'\n"
          ]
        }
      ]
    },
    {
      "cell_type": "code",
      "source": [],
      "metadata": {
        "id": "GSe6BffGfEnd"
      },
      "id": "GSe6BffGfEnd",
      "execution_count": null,
      "outputs": []
    },
    {
      "cell_type": "code",
      "source": [
        "\n",
        "\n",
        "### 1. **What is the difference between interpreted and compiled languages?**\n",
        "\n",
        "* **Interpreted** languages execute code line by line (e.g., Python).\n",
        "* **Compiled** languages translate code into machine code before execution (e.g., C, C++).\n",
        "\n",
        "---\n",
        "\n",
        "### 2. **What is exception handling in Python?**\n",
        "\n",
        "It’s the process of handling runtime errors using `try`, `except`, `finally`, and `else` blocks to prevent the program from crashing.\n",
        "\n",
        "---\n",
        "\n",
        "### 3. **What is the purpose of the finally block in exception handling?**\n",
        "\n",
        "To define cleanup actions that must be executed under all circumstances, even if an exception occurs.\n",
        "\n",
        "---\n",
        "\n",
        "### 4. **What is logging in Python?**\n",
        "\n",
        "Logging is the process of tracking events that happen when the software runs, useful for debugging and monitoring.\n",
        "\n",
        "---\n",
        "\n",
        "### 5. **What is the significance of the `__del__` method in Python?**\n",
        "\n",
        "It is a destructor method called when an object is about to be destroyed, typically used for cleanup operations.\n",
        "\n",
        "---\n",
        "\n",
        "### 6. **What is the difference between `import` and `from ... import` in Python?**\n",
        "\n",
        "* `import module` imports the entire module.\n",
        "* `from module import name` imports specific attributes or functions from the module.\n",
        "\n",
        "---\n",
        "\n",
        "### 7. **How can you handle multiple exceptions in Python?**\n",
        "\n",
        "Using multiple `except` blocks or combining them in a tuple:\n",
        "\n",
        "```python\n",
        "try:\n",
        "    ...\n",
        "except (TypeError, ValueError) as e:\n",
        "    print(e)\n",
        "```\n",
        "\n",
        "---\n",
        "\n",
        "### 8. **What is the purpose of the `with` statement when handling files in Python?**\n",
        "\n",
        "It simplifies file handling by automatically closing the file after the block is executed.\n",
        "\n",
        "---\n",
        "\n",
        "### 9. **What is the difference between multithreading and multiprocessing?**\n",
        "\n",
        "* **Multithreading**: multiple threads within a single process; good for I/O-bound tasks.\n",
        "* **Multiprocessing**: multiple processes with separate memory; good for CPU-bound tasks.\n",
        "\n",
        "---\n",
        "\n",
        "### 10. **What are the advantages of using logging in a program?**\n",
        "\n",
        "* Tracks events for debugging and auditing.\n",
        "* Better than `print()` for production code.\n",
        "* Supports log levels and file output.\n",
        "\n",
        "---\n",
        "\n",
        "### 11. **What is memory management in Python?**\n",
        "\n",
        "Automatic handling of memory allocation and deallocation, mainly through reference counting and garbage collection.\n",
        "\n",
        "---\n",
        "\n",
        "### 12. **What are the basic steps involved in exception handling in Python?**\n",
        "\n",
        "* Use `try` block to wrap risky code.\n",
        "* Handle exceptions using one or more `except` blocks.\n",
        "* Optionally use `else` and `finally` blocks for additional handling.\n",
        "\n",
        "---\n",
        "\n",
        "### 13. **Why is memory management important in Python?**\n",
        "\n",
        "To avoid memory leaks and ensure efficient use of system resources during program execution.\n",
        "\n",
        "---\n",
        "\n",
        "### 14. **What is the role of `try` and `except` in exception handling?**\n",
        "\n",
        "They allow the program to handle errors gracefully without crashing by catching and responding to exceptions.\n",
        "\n",
        "---\n",
        "\n",
        "### 15. **How does Python's garbage collection system work?**\n",
        "\n",
        "Python uses **reference counting** and a **cyclic garbage collector** to automatically free unused memory.\n",
        "\n",
        "---\n",
        "\n",
        "### 16. **What is the purpose of the else block in exception handling?**\n",
        "\n",
        "It runs if no exception was raised in the `try` block, used for code that should run only when the `try` succeeds.\n",
        "\n",
        "---\n",
        "\n",
        "### 17. **What are the common logging levels in Python?**\n",
        "\n",
        "* `DEBUG`\n",
        "* `INFO`\n",
        "* `WARNING`\n",
        "* `ERROR`\n",
        "* `CRITICAL`\n",
        "\n",
        "---\n",
        "\n",
        "### 18. **What is the difference between `os.fork()` and multiprocessing in Python?**\n",
        "\n",
        "* `os.fork()` is a low-level Unix-only method to create a new process.\n",
        "* `multiprocessing` is a high-level, platform-independent API for spawning processes.\n",
        "\n",
        "---\n",
        "\n",
        "### 19. **What is the importance of closing a file in Python?**\n",
        "\n",
        "It ensures that resources are freed and data is written properly to disk.\n",
        "\n",
        "---\n",
        "\n",
        "### 20. **What is the difference between `file.read()` and `file.readline()` in Python?**\n",
        "\n",
        "* `read()` reads the entire file content.\n",
        "* `readline()` reads only a single line at a time.\n",
        "\n",
        "---\n",
        "\n",
        "### 21. **What is the logging module in Python used for?**\n",
        "\n",
        "To report status, error, and informational messages during program execution in a consistent way.\n",
        "\n",
        "---\n",
        "\n",
        "### 22. **What is the os module in Python used for in file handling?**\n",
        "\n",
        "It provides functions to interact with the operating system, like file/directory operations (`os.path`, `os.remove`, etc.).\n",
        "\n",
        "---\n",
        "\n",
        "### 23. **What are the challenges associated with memory management in Python?**\n",
        "\n",
        "* Managing circular references.\n",
        "* Memory leaks due to lingering references.\n",
        "* Efficient use of heap memory.\n",
        "\n",
        "---\n",
        "\n",
        "### 24. **How do you raise an exception manually in Python?**\n",
        "\n",
        "Using the `raise` statement:\n",
        "\n",
        "```python\n",
        "raise ValueError(\"Invalid input\")\n",
        "```\n",
        "\n",
        "---\n",
        "\n",
        "### 25. **Why is it important to use multithreading in certain applications?**\n",
        "\n",
        "To improve performance in I/O-bound tasks (e.g., file I/O, network calls) by running tasks concurrently.\n",
        "\n",
        "\n"
      ],
      "metadata": {
        "id": "isisNc11gSME"
      },
      "id": "isisNc11gSME",
      "execution_count": null,
      "outputs": []
    }
  ],
  "metadata": {
    "colab": {
      "provenance": [],
      "include_colab_link": true
    },
    "language_info": {
      "name": "python"
    },
    "kernelspec": {
      "name": "python3",
      "display_name": "Python 3"
    }
  },
  "nbformat": 4,
  "nbformat_minor": 5
}