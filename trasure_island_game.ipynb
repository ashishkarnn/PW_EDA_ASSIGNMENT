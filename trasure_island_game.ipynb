{
  "nbformat": 4,
  "nbformat_minor": 0,
  "metadata": {
    "colab": {
      "provenance": [],
      "authorship_tag": "ABX9TyOsCiPdnsQFMmFfoZoNXz9Z",
      "include_colab_link": true
    },
    "kernelspec": {
      "name": "python3",
      "display_name": "Python 3"
    },
    "language_info": {
      "name": "python"
    }
  },
  "cells": [
    {
      "cell_type": "markdown",
      "metadata": {
        "id": "view-in-github",
        "colab_type": "text"
      },
      "source": [
        "<a href=\"https://colab.research.google.com/github/ashishkarnn/PW_EDA_ASSIGNMENT/blob/main/trasure_island_game.ipynb\" target=\"_parent\"><img src=\"https://colab.research.google.com/assets/colab-badge.svg\" alt=\"Open In Colab\"/></a>"
      ]
    },
    {
      "cell_type": "code",
      "execution_count": null,
      "metadata": {
        "id": "k0vYARNaTh77"
      },
      "outputs": [],
      "source": [
        "def treasure_island():\n",
        "    print(\"Welcome to Treasure Island. Your mission is to find the treasure!\")\n",
        "    print(\"You're at a crossroad. Where do you want to go?\")\n",
        "\n",
        "    choice1 = input(\"Type 'Left' or 'Right': \").strip().lower()\n",
        "    if choice1 != \"left\":\n",
        "        print(\"You fell into a hole. Game Over.\")\n",
        "        return\n",
        "\n",
        "    choice2 = input(\"You've come to a lake. There is an island in the middle of the lake.\\nType 'Wait' to wait for a boat or 'Swim' to swim across: \").strip().lower()\n",
        "    if choice2 != \"wait\":\n",
        "        print(\"You were attacked by a trout. Game Over.\")\n",
        "        return\n",
        "\n",
        "    choice3 = input(\"You arrive at the island unharmed. There is a house with 3 doors: Red, Blue, and Yellow.\\nWhich door do you choose? \").strip().lower()\n",
        "    if choice3 == \"red\":\n",
        "        print(\"Burned by fire. Game Over.\")\n",
        "    elif choice3 == \"blue\":\n",
        "        print(\"Eaten by beasts. Game Over.\")\n",
        "    elif choice3 == \"yellow\":\n",
        "        print(\"You found the treasure! You Win! 🎉\")\n",
        "    else:\n",
        "        print(\"That door doesn't exist. Game Over.\")\n",
        "\n",
        "# Call the function\n",
        "treasure_island()\n",
        "\n",
        "# Ending treasure map graphic\n",
        "print('''\n",
        "*******************************************************************************\n",
        "          |                   |                  |                     |\n",
        " _________|________________.=\"\"_;=.______________|_____________________|_______\n",
        "|                   |  ,-\"_,=\"\"     `\"=.|                  |\n",
        "|___________________|__\"=._o`\"-._        `\"=.______________|___________________\n",
        "          |                `\"=._o`\"=._      _`\"=._                     |\n",
        " _________|_____________________:=._o \"=._.\"_.-=\"'\"=.__________________|_______\n",
        "|                   |    __.--\" , ; `\"=._o.\" ,-\"\"\"-._ \".   |\n",
        "|___________________|_._\"  ,. .` ` `` ,  `\"-._\"-._   \". '__|___________________\n",
        "          |           |o`\"=._` , \"` `; .\". ,  \"-._\"-._; ;              |\n",
        " _________|___________| ;`-.o`\"=._; .\" ` '`.\"\\` . \"-._ /_______________|_______\n",
        "|                   | |o;    `\"-.o`\"=._``  '` \" ,__.--o;   |\n",
        "|___________________|_| ;     (#) `-.o `\"=.`_.--\"_o.-; ;___|___________________\n",
        "____/______/______/___|o;._    \"      `\".o|o_.--\"    ;o;____/______/______/____\n",
        "/______/______/______/_\"=._o--._        ; | ;        ; ;/______/______/______/_\n",
        "____/______/______/______/__\"=._o--._   ;o|o;     _._;o;____/______/______/____\n",
        "/______/______/______/______/____\"=._o._; | ;_.--\"o.--\"_/______/______/______/_\n",
        "____/______/______/______/______/_____\"=.o|o_.--\"\"___/______/______/______/____\n",
        "/______/______/______/______/______/______/______/______/______/______/[TomekK]\n",
        "*******************************************************************************\n",
        "''')\n"
      ]
    },
    {
      "cell_type": "code",
      "source": [],
      "metadata": {
        "id": "Ft-Ejq9BTpfq"
      },
      "execution_count": null,
      "outputs": []
    }
  ]
}