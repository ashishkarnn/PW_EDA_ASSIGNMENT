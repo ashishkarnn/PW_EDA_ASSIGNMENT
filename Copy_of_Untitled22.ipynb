{
  "nbformat": 4,
  "nbformat_minor": 0,
  "metadata": {
    "colab": {
      "provenance": [],
      "authorship_tag": "ABX9TyMfKyUU4yB1mn9m34VkfAx7",
      "include_colab_link": true
    },
    "kernelspec": {
      "name": "python3",
      "display_name": "Python 3"
    },
    "language_info": {
      "name": "python"
    }
  },
  "cells": [
    {
      "cell_type": "markdown",
      "metadata": {
        "id": "view-in-github",
        "colab_type": "text"
      },
      "source": [
        "<a href=\"https://colab.research.google.com/github/ashishkarnn/PW_EDA_ASSIGNMENT/blob/main/Copy_of_Untitled22.ipynb\" target=\"_parent\"><img src=\"https://colab.research.google.com/assets/colab-badge.svg\" alt=\"Open In Colab\"/></a>"
      ]
    },
    {
      "cell_type": "code",
      "execution_count": null,
      "metadata": {
        "id": "UEjqtXz9zMnL"
      },
      "outputs": [],
      "source": [
        "# 1. Explain the purpose and advantages of NumPy in scientific computing and data analysis. How does it enhance Python's capabilities for numerical operations?\n",
        "#  NumPy is a library for numerical computing in Python that provides support for large, multi-dimensional arrays and matrices, and a wide range of mathematical functions. It enhances Python's capabilities by enabling vectorized operations, reducing the need for loops, and increasing performance and memory efficiency."
      ]
    },
    {
      "cell_type": "code",
      "source": [
        "# 2. Compare and contrast np.mean() and np.average() functions in NumPy. When would you use one over the other?\n",
        "# . np.mean() computes the arithmetic mean along the specified axis, treating all elements equally. np.average() can compute a weighted average if weights are provided. Use np.mean() for simple average and np.average() when weights are involved."
      ],
      "metadata": {
        "id": "MCQUCV53zSUN"
      },
      "execution_count": null,
      "outputs": []
    },
    {
      "cell_type": "code",
      "source": [
        "# 3. Describe the methods for reversing a NumPy array along different axes. Provide examples for 1D and 2D arrays.\n",
        "import numpy as np\n",
        "\n",
        "arr1d = np.array([1, 2, 3, 4])\n",
        "reversed_1d = arr1d[::-1]\n",
        "\n",
        "arr2d = np.array([[1, 2], [3, 4], [5, 6]])\n",
        "reversed_rows = arr2d[::-1, :]\n",
        "reversed_columns = arr2d[:, ::-1]\n",
        "reversed_both = arr2d[::-1, ::-1]\n",
        "\n",
        "reversed_1d, reversed_rows, reversed_columns, reversed_both\n"
      ],
      "metadata": {
        "colab": {
          "base_uri": "https://localhost:8080/"
        },
        "id": "996Ui_sqzvMX",
        "outputId": "96b07c71-bcf8-478a-e8ea-311de0a41d58"
      },
      "execution_count": null,
      "outputs": [
        {
          "output_type": "execute_result",
          "data": {
            "text/plain": [
              "(array([4, 3, 2, 1]),\n",
              " array([[5, 6],\n",
              "        [3, 4],\n",
              "        [1, 2]]),\n",
              " array([[2, 1],\n",
              "        [4, 3],\n",
              "        [6, 5]]),\n",
              " array([[6, 5],\n",
              "        [4, 3],\n",
              "        [2, 1]]))"
            ]
          },
          "metadata": {},
          "execution_count": 7
        }
      ]
    },
    {
      "cell_type": "code",
      "source": [
        "# 4. How can you determine the data type of elements in a NumPy array? Discuss the importance of data types in memory management and performance.\n",
        "arr = np.array([1, 2, 3])\n",
        "dtype = arr.dtype\n",
        "dtype\n",
        "\n"
      ],
      "metadata": {
        "colab": {
          "base_uri": "https://localhost:8080/"
        },
        "id": "JEDkJgld0u7Q",
        "outputId": "00f841d1-9c6c-46df-a8ab-e10f0632a1ee"
      },
      "execution_count": null,
      "outputs": [
        {
          "output_type": "execute_result",
          "data": {
            "text/plain": [
              "dtype('int64')"
            ]
          },
          "metadata": {},
          "execution_count": 9
        }
      ]
    },
    {
      "cell_type": "code",
      "source": [
        "# 5. Define ndarrays in NumPy and explain their key features. How do they differ from standard Python lists?\n",
        "\"\"\"\n",
        "An ndarray is a N-dimensional array object in NumPy that supports efficient operations on homogeneous data. Key features include fixed size, element-wise operations, slicing, broadcasting, and vectorization. Unlike Python lists, ndarrays store data in contiguous memory blocks, support element-wise operations, and are more efficient for numerical computations.\n",
        "\"\"\"\n"
      ],
      "metadata": {
        "colab": {
          "base_uri": "https://localhost:8080/",
          "height": 70
        },
        "id": "sxBOdV8K06Y9",
        "outputId": "56c55a17-2c97-4a50-aa3b-6e107337501f"
      },
      "execution_count": null,
      "outputs": [
        {
          "output_type": "execute_result",
          "data": {
            "text/plain": [
              "'\\nAn ndarray is a N-dimensional array object in NumPy that supports efficient operations on homogeneous data. Key features include fixed size, element-wise operations, slicing, broadcasting, and vectorization. Unlike Python lists, ndarrays store data in contiguous memory blocks, support element-wise operations, and are more efficient for numerical computations.\\n'"
            ],
            "application/vnd.google.colaboratory.intrinsic+json": {
              "type": "string"
            }
          },
          "metadata": {},
          "execution_count": 10
        }
      ]
    },
    {
      "cell_type": "code",
      "source": [
        "# 6. Analyze the performance benefits of NumPy arrays over Python lists for large-scale numerical operations.\n",
        "\"\"\"\n",
        "NumPy arrays consume less memory, support vectorized operations which eliminate explicit loops, and use optimized C-backed functions. This leads to faster execution for large-scale numerical computations compared to Python lists.\n",
        "\"\"\"\n"
      ],
      "metadata": {
        "colab": {
          "base_uri": "https://localhost:8080/",
          "height": 53
        },
        "id": "0mrKJcMv1C_C",
        "outputId": "22853d72-97a6-4585-eb5c-a6c584633b20"
      },
      "execution_count": null,
      "outputs": [
        {
          "output_type": "execute_result",
          "data": {
            "text/plain": [
              "'\\nNumPy arrays consume less memory, support vectorized operations which eliminate explicit loops, and use optimized C-backed functions. This leads to faster execution for large-scale numerical computations compared to Python lists.\\n'"
            ],
            "application/vnd.google.colaboratory.intrinsic+json": {
              "type": "string"
            }
          },
          "metadata": {},
          "execution_count": 11
        }
      ]
    },
    {
      "cell_type": "code",
      "source": [
        "# 7. Compare vstack() and hstack() functions in NumPy. Provide examples demonstrating their usage and output.\n",
        "a = np.array([1, 2])\n",
        "b = np.array([3, 4])\n",
        "\n",
        "vstacked = np.vstack((a, b))\n",
        "hstacked = np.hstack((a, b))\n",
        "\n",
        "vstacked, hstacked\n"
      ],
      "metadata": {
        "colab": {
          "base_uri": "https://localhost:8080/"
        },
        "id": "Ec7tJZCi1GPb",
        "outputId": "e4a28225-a3d5-483a-ef9d-2d98fdb60295"
      },
      "execution_count": null,
      "outputs": [
        {
          "output_type": "execute_result",
          "data": {
            "text/plain": [
              "(array([[1, 2],\n",
              "        [3, 4]]),\n",
              " array([1, 2, 3, 4]))"
            ]
          },
          "metadata": {},
          "execution_count": 12
        }
      ]
    },
    {
      "cell_type": "code",
      "source": [
        "# 8. Explain the differences between fliplr() and flipud() methods in NumPy, including their effects on various array dimensions.\n",
        "arr = np.array([[1, 2], [3, 4], [5, 6]])\n",
        "flipped_lr = np.fliplr(arr)\n",
        "flipped_ud = np.flipud(arr)\n",
        "\n",
        "flipped_lr, flipped_ud\n"
      ],
      "metadata": {
        "colab": {
          "base_uri": "https://localhost:8080/"
        },
        "id": "Wx2XpFA71JKs",
        "outputId": "62e3fbe8-eddc-48ba-af9a-ef550e4ba772"
      },
      "execution_count": null,
      "outputs": [
        {
          "output_type": "execute_result",
          "data": {
            "text/plain": [
              "(array([[2, 1],\n",
              "        [4, 3],\n",
              "        [6, 5]]),\n",
              " array([[5, 6],\n",
              "        [3, 4],\n",
              "        [1, 2]]))"
            ]
          },
          "metadata": {},
          "execution_count": 13
        }
      ]
    },
    {
      "cell_type": "code",
      "source": [
        "# 9. Discuss the functionality of the array_split() method in NumPy. How does it handle uneven splits?\n",
        "arr = np.array([1, 2, 3, 4, 5])\n",
        "split_arrs = np.array_split(arr, 3)\n",
        "split_arrs\n"
      ],
      "metadata": {
        "colab": {
          "base_uri": "https://localhost:8080/"
        },
        "id": "XdAuiizI1MEf",
        "outputId": "3d887b29-3e06-400f-e170-9fff1d86164b"
      },
      "execution_count": null,
      "outputs": [
        {
          "output_type": "execute_result",
          "data": {
            "text/plain": [
              "[array([1, 2]), array([3, 4]), array([5])]"
            ]
          },
          "metadata": {},
          "execution_count": 14
        }
      ]
    },
    {
      "cell_type": "code",
      "source": [
        "# 10. Explain the concepts of vectorization and broadcasting in NumPy. How do they contribute to efficient array operations?\n",
        "\"\"\"\n",
        "Vectorization is the process of applying operations to entire arrays without explicit loops. Broadcasting allows operations on arrays of different shapes by automatically expanding them. Both improve efficiency and code clarity.\n",
        "\"\"\"\n"
      ],
      "metadata": {
        "colab": {
          "base_uri": "https://localhost:8080/",
          "height": 53
        },
        "id": "ctRpr1uu1Ooa",
        "outputId": "c753a774-6c12-433a-bdf1-cc06303c5f50"
      },
      "execution_count": null,
      "outputs": [
        {
          "output_type": "execute_result",
          "data": {
            "text/plain": [
              "'\\nVectorization is the process of applying operations to entire arrays without explicit loops. Broadcasting allows operations on arrays of different shapes by automatically expanding them. Both improve efficiency and code clarity.\\n'"
            ],
            "application/vnd.google.colaboratory.intrinsic+json": {
              "type": "string"
            }
          },
          "metadata": {},
          "execution_count": 15
        }
      ]
    },
    {
      "cell_type": "code",
      "source": [
        "# pratical"
      ],
      "metadata": {
        "id": "PReOnDNF1Q_K"
      },
      "execution_count": null,
      "outputs": []
    },
    {
      "cell_type": "code",
      "source": [
        "# 1. Create a 3x3 NumPy array with random integers between 1 and 100. Then, interchange its rows and columns.\n",
        "import numpy as np\n",
        "\n",
        "arr = np.random.randint(1, 101, size=(3, 3))\n",
        "transposed = arr.T\n",
        "arr, transposed\n"
      ],
      "metadata": {
        "colab": {
          "base_uri": "https://localhost:8080/"
        },
        "id": "J46qtXIq1S5i",
        "outputId": "fa5556f8-5987-47cd-b5a2-13c2de4a60b8"
      },
      "execution_count": null,
      "outputs": [
        {
          "output_type": "execute_result",
          "data": {
            "text/plain": [
              "(array([[23, 73, 62],\n",
              "        [89, 77, 56],\n",
              "        [72, 37, 49]]),\n",
              " array([[23, 89, 72],\n",
              "        [73, 77, 37],\n",
              "        [62, 56, 49]]))"
            ]
          },
          "metadata": {},
          "execution_count": 17
        }
      ]
    },
    {
      "cell_type": "code",
      "source": [
        "# 2. Generate a 1D NumPy array with 10 elements. Reshape it into a 2x5 array, then into a 5x2 array.\n",
        "arr = np.arange(10)\n",
        "reshaped_2x5 = arr.reshape(2, 5)\n",
        "reshaped_5x2 = arr.reshape(5, 2)\n",
        "reshaped_2x5, reshaped_5x2\n"
      ],
      "metadata": {
        "colab": {
          "base_uri": "https://localhost:8080/"
        },
        "id": "V-hLMQnb1fKD",
        "outputId": "92594d24-6615-45be-9944-cbac52c79df0"
      },
      "execution_count": null,
      "outputs": [
        {
          "output_type": "execute_result",
          "data": {
            "text/plain": [
              "(array([[0, 1, 2, 3, 4],\n",
              "        [5, 6, 7, 8, 9]]),\n",
              " array([[0, 1],\n",
              "        [2, 3],\n",
              "        [4, 5],\n",
              "        [6, 7],\n",
              "        [8, 9]]))"
            ]
          },
          "metadata": {},
          "execution_count": 18
        }
      ]
    },
    {
      "cell_type": "code",
      "source": [
        "# 3. Create a 4x4 NumPy array with random float values. Add a border of zeros around it, resulting in a 6x6 array.\n",
        "arr = np.random.rand(4, 4)\n",
        "bordered_arr = np.pad(arr, pad_width=1, mode='constant', constant_values=0)\n",
        "bordered_arr\n"
      ],
      "metadata": {
        "colab": {
          "base_uri": "https://localhost:8080/"
        },
        "id": "EgF0FkR-1iZE",
        "outputId": "aa07738f-0748-4ed1-8bcb-c42509cbcf42"
      },
      "execution_count": null,
      "outputs": [
        {
          "output_type": "execute_result",
          "data": {
            "text/plain": [
              "array([[0.        , 0.        , 0.        , 0.        , 0.        ,\n",
              "        0.        ],\n",
              "       [0.        , 0.51353923, 0.00149813, 0.73335469, 0.92889036,\n",
              "        0.        ],\n",
              "       [0.        , 0.77254543, 0.01766208, 0.05512453, 0.51726127,\n",
              "        0.        ],\n",
              "       [0.        , 0.11133897, 0.64734429, 0.14316192, 0.25649086,\n",
              "        0.        ],\n",
              "       [0.        , 0.69294321, 0.50367813, 0.49939859, 0.93751771,\n",
              "        0.        ],\n",
              "       [0.        , 0.        , 0.        , 0.        , 0.        ,\n",
              "        0.        ]])"
            ]
          },
          "metadata": {},
          "execution_count": 19
        }
      ]
    },
    {
      "cell_type": "code",
      "source": [
        "# 4. Using NumPy, create an array of integers from 10 to 60 with a step of 5.\n",
        "arr = np.arange(10, 61, 5)\n",
        "arr\n"
      ],
      "metadata": {
        "colab": {
          "base_uri": "https://localhost:8080/"
        },
        "id": "G5oj_udb1myU",
        "outputId": "434d9698-7e5a-4203-9d16-8d21e5105e96"
      },
      "execution_count": null,
      "outputs": [
        {
          "output_type": "execute_result",
          "data": {
            "text/plain": [
              "array([10, 15, 20, 25, 30, 35, 40, 45, 50, 55, 60])"
            ]
          },
          "metadata": {},
          "execution_count": 20
        }
      ]
    },
    {
      "cell_type": "code",
      "source": [
        "# 5. Create a NumPy array of strings ['python', 'numpy', 'pandas']. Apply different case transformations (uppercase, lowercase, title case, etc.) to each element.\n",
        "arr = np.array(['python', 'numpy', 'pandas'])\n",
        "\n",
        "upper = np.char.upper(arr)\n",
        "lower = np.char.lower(arr)\n",
        "title = np.char.title(arr)\n",
        "\n",
        "upper, lower, title\n"
      ],
      "metadata": {
        "colab": {
          "base_uri": "https://localhost:8080/"
        },
        "id": "ljU11Mze1tUF",
        "outputId": "f7b343fc-8528-4afc-8dbe-1c79b6b2b50a"
      },
      "execution_count": null,
      "outputs": [
        {
          "output_type": "execute_result",
          "data": {
            "text/plain": [
              "(array(['PYTHON', 'NUMPY', 'PANDAS'], dtype='<U6'),\n",
              " array(['python', 'numpy', 'pandas'], dtype='<U6'),\n",
              " array(['Python', 'Numpy', 'Pandas'], dtype='<U6'))"
            ]
          },
          "metadata": {},
          "execution_count": 21
        }
      ]
    },
    {
      "cell_type": "code",
      "source": [
        "# 6. Generate a NumPy array of words. Insert a space between each character of every word in the array.\n",
        "arr = np.array(['python', 'data', 'science'])\n",
        "spaced = np.char.join(' ', arr)\n",
        "spaced\n"
      ],
      "metadata": {
        "colab": {
          "base_uri": "https://localhost:8080/"
        },
        "id": "3hngMzj71xYg",
        "outputId": "297796b5-e5f4-4f15-f058-c9a30dfea4e6"
      },
      "execution_count": null,
      "outputs": [
        {
          "output_type": "execute_result",
          "data": {
            "text/plain": [
              "array(['p y t h o n', 'd a t a', 's c i e n c e'], dtype='<U13')"
            ]
          },
          "metadata": {},
          "execution_count": 22
        }
      ]
    },
    {
      "cell_type": "code",
      "source": [
        "# 7. Create two 2D NumPy arrays and perform element-wise addition, subtraction, multiplication, and division.\n",
        "a = np.array([[1, 2], [3, 4]])\n",
        "b = np.array([[5, 6], [7, 8]])\n",
        "\n",
        "add = a + b\n",
        "sub = a - b\n",
        "mul = a * b\n",
        "div = a / b\n",
        "\n",
        "add, sub, mul, div\n"
      ],
      "metadata": {
        "colab": {
          "base_uri": "https://localhost:8080/"
        },
        "id": "Rh-L1LCB1zk6",
        "outputId": "6e8eb1ca-25ba-4858-8be8-3feca2bc4b15"
      },
      "execution_count": null,
      "outputs": [
        {
          "output_type": "execute_result",
          "data": {
            "text/plain": [
              "(array([[ 6,  8],\n",
              "        [10, 12]]),\n",
              " array([[-4, -4],\n",
              "        [-4, -4]]),\n",
              " array([[ 5, 12],\n",
              "        [21, 32]]),\n",
              " array([[0.2       , 0.33333333],\n",
              "        [0.42857143, 0.5       ]]))"
            ]
          },
          "metadata": {},
          "execution_count": 23
        }
      ]
    },
    {
      "cell_type": "code",
      "source": [
        "# 8. Use NumPy to create a 5x5 identity matrix, then extract its diagonal elements.\n",
        "identity = np.eye(5)\n",
        "diagonal = np.diag(identity)\n",
        "identity, diagonal\n"
      ],
      "metadata": {
        "colab": {
          "base_uri": "https://localhost:8080/"
        },
        "id": "QYUZDLXE118r",
        "outputId": "1566092d-64d9-4cf7-bf29-0ea1c9ed08f3"
      },
      "execution_count": null,
      "outputs": [
        {
          "output_type": "execute_result",
          "data": {
            "text/plain": [
              "(array([[1., 0., 0., 0., 0.],\n",
              "        [0., 1., 0., 0., 0.],\n",
              "        [0., 0., 1., 0., 0.],\n",
              "        [0., 0., 0., 1., 0.],\n",
              "        [0., 0., 0., 0., 1.]]),\n",
              " array([1., 1., 1., 1., 1.]))"
            ]
          },
          "metadata": {},
          "execution_count": 25
        }
      ]
    },
    {
      "cell_type": "code",
      "source": [
        "# 9. Generate a NumPy array of 100 random integers between 0 and 1000. Find and display all prime numbers in this array.\n",
        "arr = np.random.randint(0, 1001, size=100)\n",
        "\n",
        "def is_prime(n):\n",
        "    if n < 2:\n",
        "        return False\n",
        "    for i in range(2, int(np.sqrt(n)) + 1):\n",
        "        if n % i == 0:\n",
        "            return False\n",
        "    return True\n",
        "\n",
        "prime_numbers = np.array([x for x in arr if is_prime(x)])\n",
        "prime_numbers\n"
      ],
      "metadata": {
        "colab": {
          "base_uri": "https://localhost:8080/"
        },
        "id": "WKD_xCIP133w",
        "outputId": "f0be562a-9afe-4c04-d7bf-45a6423871b7"
      },
      "execution_count": null,
      "outputs": [
        {
          "output_type": "execute_result",
          "data": {
            "text/plain": [
              "array([839, 967, 139, 409, 157, 727, 521, 389, 607, 631, 607, 521, 773,\n",
              "       863, 149,   2, 967])"
            ]
          },
          "metadata": {},
          "execution_count": 26
        }
      ]
    },
    {
      "cell_type": "code",
      "source": [
        "# 10. Create a NumPy array representing daily temperatures for a month. Calculate and display the weekly averages.\n",
        "daily_temps = np.random.randint(15, 35, size=30)\n",
        "weekly_averages = daily_temps.reshape(6, 5).mean(axis=1)\n",
        "weekly_averages\n"
      ],
      "metadata": {
        "colab": {
          "base_uri": "https://localhost:8080/"
        },
        "id": "Jn5sAlXV195-",
        "outputId": "344b1a8e-d3b3-4e12-c765-a846210e95c6"
      },
      "execution_count": null,
      "outputs": [
        {
          "output_type": "execute_result",
          "data": {
            "text/plain": [
              "array([25.6, 20.2, 23.6, 18.2, 25.4, 21.4])"
            ]
          },
          "metadata": {},
          "execution_count": 27
        }
      ]
    }
  ]
}